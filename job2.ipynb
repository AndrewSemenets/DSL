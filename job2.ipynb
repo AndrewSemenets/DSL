{
  "nbformat": 4,
  "nbformat_minor": 0,
  "metadata": {
    "colab": {
      "name": "job2.ipynb",
      "provenance": [],
      "authorship_tag": "ABX9TyPY5HYRsBqCUp9M37DcadZe",
      "include_colab_link": true
    },
    "kernelspec": {
      "name": "python3",
      "display_name": "Python 3"
    },
    "language_info": {
      "name": "python"
    }
  },
  "cells": [
    {
      "cell_type": "markdown",
      "metadata": {
        "id": "view-in-github",
        "colab_type": "text"
      },
      "source": [
        "<a href=\"https://colab.research.google.com/github/AndrewSemenets/DSL/blob/main/job2.ipynb\" target=\"_parent\"><img src=\"https://colab.research.google.com/assets/colab-badge.svg\" alt=\"Open In Colab\"/></a>"
      ]
    },
    {
      "cell_type": "markdown",
      "metadata": {
        "id": "_YvyRoKEeSwf"
      },
      "source": [
        "```\n",
        "{'toks': set(token), 'vars': dict(var: definition), 'hvar': var}\n",
        "token : (class, value)    # токены\n",
        "class : int\n",
        "value : str\n",
        "var : str                 # имя нетерминала\n",
        "definition : list(rule)\n",
        "rule : list(var | token)  # правая часть правила\n",
        "```"
      ]
    },
    {
      "cell_type": "markdown",
      "metadata": {
        "id": "-A3OL-nEhcwg"
      },
      "source": [
        "1) Удаление посторонних нетерминалов:"
      ]
    },
    {
      "cell_type": "code",
      "metadata": {
        "id": "1aZnQBF4e0u8"
      },
      "source": [
        ""
      ],
      "execution_count": null,
      "outputs": []
    },
    {
      "cell_type": "code",
      "metadata": {
        "id": "CITfhT4UelxS"
      },
      "source": [
        "grammar = {\n",
        "    'toks': set( [\n",
        "        (0, 'a'), \n",
        "        (1, 'b'), \n",
        "        (1, 'c'), \n",
        "        (2, 'd')\n",
        "    ] ),\n",
        "    'vars': {\n",
        "        'A' : [['A', (1, 'b')], \n",
        "               ['B', 'F'],\n",
        "               ['C', (0, 'a'), 'C'],\n",
        "               ['D', (1, 'b')]],\n",
        "        'W' : [['F', (1, 'c')]],\n",
        "        'B' : [['A']],\n",
        "        'C' : [['B']],\n",
        "        'F' : [[(2, 'd')],\n",
        "               [(1, 'b'), 'B']]\n",
        "    },\n",
        "    'hvar': 'A'\n",
        "}"
      ],
      "execution_count": 1,
      "outputs": []
    }
  ]
}