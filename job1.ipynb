{
  "nbformat": 4,
  "nbformat_minor": 0,
  "metadata": {
    "colab": {
      "name": "job1.ipynb",
      "provenance": [],
      "collapsed_sections": [],
      "authorship_tag": "ABX9TyNNDwfEtoSCuikMxS7T6Coy",
      "include_colab_link": true
    },
    "kernelspec": {
      "display_name": "Python 3",
      "name": "python3"
    },
    "language_info": {
      "name": "python"
    }
  },
  "cells": [
    {
      "cell_type": "markdown",
      "metadata": {
        "id": "view-in-github",
        "colab_type": "text"
      },
      "source": [
        "<a href=\"https://colab.research.google.com/github/AndrewSemenets/DSL/blob/main/job1.ipynb\" target=\"_parent\"><img src=\"https://colab.research.google.com/assets/colab-badge.svg\" alt=\"Open In Colab\"/></a>"
      ]
    },
    {
      "cell_type": "code",
      "metadata": {
        "id": "zqOyBAZA0M_8"
      },
      "source": [
        "whitespaces = (',', ';', ' ', '(', ')', '\"')\n",
        "text = 'var a;print(\"text\");end;'\n",
        "#text = 'text.txt'\n",
        "token_list = []"
      ],
      "execution_count": 17,
      "outputs": []
    },
    {
      "cell_type": "markdown",
      "metadata": {
        "id": "Le64YZLETtmx"
      },
      "source": [
        "Проверка, ссылается ли **text** на строку или на имя текстового файла.\n",
        "\n",
        "При невозможности найти файл считается, что **text** ссылается на строку."
      ]
    },
    {
      "cell_type": "code",
      "metadata": {
        "id": "_7fdoTIWT8on"
      },
      "source": [
        "try:\n",
        "      f = open(text, \"r\")\n",
        "      text = f.read()\n",
        "except FileNotFoundError:\n",
        "      pass\n"
      ],
      "execution_count": 18,
      "outputs": []
    },
    {
      "cell_type": "markdown",
      "metadata": {
        "id": "VbnOXgBuT_a0"
      },
      "source": [
        "Посимвольный проход по **text**.\n",
        "\n",
        "Если текущий символ не содержится в **whitespace**, то он добавляется в буфер.\n",
        "\n",
        "Если текущий символ содержится в **whitespace**, и буфер не пустой, то буфер добавляется в выходящий список и обнуляется.\n",
        "\n",
        "После прохода буфер, при условии, что он не пустой, добавляется в выходящий список. "
      ]
    },
    {
      "cell_type": "code",
      "metadata": {
        "colab": {
          "base_uri": "https://localhost:8080/"
        },
        "id": "cdfVmmacUCPt",
        "outputId": "b3918d66-da1a-432a-b3ec-60b9b26a322c"
      },
      "source": [
        "cur_token = ''\n",
        "for cur_symbol in text:                       \n",
        "      if cur_symbol not in whitespaces:\n",
        "            cur_token += cur_symbol\n",
        "      else:\n",
        "            if len(cur_token) != 0:\n",
        "                  token_list.append(cur_token)\n",
        "                  cur_token = ''\n",
        "                  \n",
        "if len(cur_token) != 0:\n",
        "      token_list.append(cur_token)\n",
        "      \n",
        "print(token_list)"
      ],
      "execution_count": 19,
      "outputs": [
        {
          "output_type": "stream",
          "name": "stdout",
          "text": [
            "['var', 'a', 'print', 'text', 'end']\n"
          ]
        }
      ]
    }
  ]
}